{
 "cells": [
  {
   "cell_type": "markdown",
   "id": "43f3bc93-646a-42dc-95f0-1eba14d3d9de",
   "metadata": {},
   "source": [
    "# Librerias empleadas"
   ]
  },
  {
   "cell_type": "code",
   "execution_count": 14,
   "id": "d10309a7-e9cd-4691-a205-e7850310eb90",
   "metadata": {},
   "outputs": [],
   "source": [
    "import pandas as pd\n",
    "import numpy as np\n",
    "from sklearn.cluster import KMeans\n",
    "import matplotlib.pyplot as plt\n",
    "from sklearn.decomposition import PCA\n",
    "from sklearn.metrics import silhouette_score\n",
    "from IPython.display import display"
   ]
  },
  {
   "cell_type": "markdown",
   "id": "95e3f383-e733-4fc0-ba6b-121f7ea258a6",
   "metadata": {},
   "source": [
    "# Carga de Datos"
   ]
  },
  {
   "cell_type": "code",
   "execution_count": 15,
   "id": "ad4b297d-6b63-454a-82cd-ba77296f1f49",
   "metadata": {},
   "outputs": [
    {
     "name": "stdout",
     "output_type": "stream",
     "text": [
      "Cargando datos...\n",
      "Datos originales: (140256, 370)\n",
      "\n",
      "Agrupando por hora...\n",
      "Datos agrupados por hora: (35065, 370)\n"
     ]
    }
   ],
   "source": [
    "print(\"Cargando datos...\")\n",
    "df = pd.read_csv('LD2011_2014.txt', sep=';', index_col=0, parse_dates=True, decimal=',')\n",
    "print(f\"Datos originales: {df.shape}\")\n",
    "\n",
    "# Agrupar por hora\n",
    "print(\"\\nAgrupando por hora...\")\n",
    "df['hora'] = df.index.floor('h')\n",
    "df_hourly = df.groupby('hora').mean()\n",
    "print(f\"Datos agrupados por hora: {df_hourly.shape}\")\n",
    "\n",
    "# Matriz de características\n",
    "X = df_hourly.values"
   ]
  },
  {
   "cell_type": "markdown",
   "id": "52e33a0d-9e7c-4328-bc34-a1fc34b58f58",
   "metadata": {},
   "source": [
    "## 2. Clustering con K-Means"
   ]
  },
  {
   "cell_type": "code",
   "execution_count": null,
   "id": "15389cc5-ec4d-4515-83bc-ee5257fa87ee",
   "metadata": {},
   "outputs": [],
   "source": [
    "# Entrenar K-Means\n",
    "K_CLUSTERS = 10\n",
    "kmeans = KMeans(n_clusters=K_CLUSTERS, random_state=42, n_init=10)\n",
    "clusters = kmeans.fit_predict(X)\n",
    "\n",
    "# Evaluación\n",
    "silhouette = silhouette_score(X, clusters)\n",
    "print(f\"Silhouette Score: {silhouette:.3f}\")"
   ]
  },
  {
   "cell_type": "markdown",
   "id": "fb0b8a11-3e18-47c3-a096-9013815e9823",
   "metadata": {},
   "source": [
    "## 3. Visualización de Resultados"
   ]
  },
  {
   "cell_type": "code",
   "execution_count": null,
   "id": "98cfcc71-58e8-401a-b841-64154f3ab968",
   "metadata": {},
   "outputs": [],
   "source": [
    "# Reducción dimensional\n",
    "pca = PCA(n_components=2)\n",
    "X_2D = pca.fit_transform(X)\n",
    "centroids_2D = pca.transform(kmeans.cluster_centers_)\n",
    "\n",
    "# Gráfico de clusters\n",
    "plt.figure(figsize=(10, 6))\n",
    "plt.scatter(X_2D[:, 0], X_2D[:, 1], c=clusters, cmap='tab20', alpha=0.6, s=20)\n",
    "plt.scatter(centroids_2D[:, 0], centroids_2D[:, 1], c='black', marker='X', s=200, label='Centroides')\n",
    "plt.title(f\"Clusters de Consumo (Silhouette: {silhouette:.3f})\")\n",
    "plt.xlabel(\"Componente Principal 1\")\n",
    "plt.ylabel(\"Componente Principal 2\")\n",
    "plt.legend()\n",
    "plt.show()\n"
   ]
  },
  {
   "cell_type": "markdown",
   "id": "ddb410c4-414d-4173-b432-02670de37d44",
   "metadata": {},
   "source": [
    "## 4. Aprendizaje Activo (Basado en el código original)"
   ]
  },
  {
   "cell_type": "code",
   "execution_count": null,
   "id": "922673da-164d-42b4-b2a5-57f5b9a538f3",
   "metadata": {},
   "outputs": [],
   "source": [
    "# Obtener distancias a centroides\n",
    "X_dist = kmeans.transform(X)\n",
    "\n",
    "# Seleccionar representantes (puntos más cercanos a cada centroide)\n",
    "representative_idxs = np.argmin(X_dist, axis=0)\n",
    "X_representatives = X[representative_idxs]\n",
    "\n",
    "# Crear etiquetas para los representantes\n",
    "y_representatives = np.arange(K_CLUSTERS)\n",
    "\n",
    "# Entrenar modelo logístico con representantes\n",
    "log_reg = LogisticRegression(multi_class='ovr', solver='lbfgs', max_iter=5000, random_state=42)\n",
    "log_reg.fit(X_representatives, y_representatives)\n",
    "\n",
    "# Propagación de etiquetas\n",
    "y_propagated = np.zeros(len(X))\n",
    "for i in range(K_CLUSTERS):\n",
    "    y_propagated[kmeans.labels_ == i] = y_representatives[i]\n",
    "\n",
    "# Seleccionar subconjunto para aprendizaje activo\n",
    "N_SAMPLES = 1000\n",
    "X_active = X[:N_SAMPLES]\n",
    "y_active = y_propagated[:N_SAMPLES].copy()\n",
    "\n",
    "# Obtener probabilidades del modelo\n",
    "probas = log_reg.predict_proba(X_active)\n",
    "\n",
    "# Encontrar instancias menos confiables\n",
    "labels_ixs = np.argmax(probas, axis=1)\n",
    "confidences = np.array([proba[ix] for proba, ix in zip(probas, labels_ixs)])\n",
    "sorted_ixs = np.argsort(confidences)\n",
    "least_confident = sorted_ixs[:K_CLUSTERS]\n",
    "\n",
    "# \"Corregir\" estas instancias (usando etiquetas del clustering)\n",
    "y_corrected = kmeans.predict(X_active[least_confident])\n",
    "\n",
    "# Actualizar etiquetas y reentrenar\n",
    "y_active_updated = y_active.copy()\n",
    "y_active_updated[least_confident] = y_corrected\n",
    "\n",
    "log_reg_active = LogisticRegression(multi_class='ovr', solver='lbfgs', max_iter=5000, random_state=42)\n",
    "log_reg_active.fit(X_active, y_active_updated)"
   ]
  },
  {
   "cell_type": "markdown",
   "id": "7ad7c69f-754b-4aa9-b7ae-5ab19e30584f",
   "metadata": {},
   "source": [
    "## 5. Visualización de Aprendizaje Activo"
   ]
  },
  {
   "cell_type": "code",
   "execution_count": null,
   "id": "411c00a6-3cc3-41c6-8741-abd1995bca2a",
   "metadata": {},
   "outputs": [],
   "source": [
    "# Preparar datos para visualización\n",
    "active_changes = np.zeros(len(X), dtype=bool)\n",
    "active_changes[:N_SAMPLES][least_confident] = True\n",
    "\n",
    "# Gráfico comparativo\n",
    "plt.figure(figsize=(12, 5))\n",
    "\n",
    "# Predicciones iniciales\n",
    "plt.subplot(1, 2, 1)\n",
    "plt.scatter(X_2D[:, 0], X_2D[:, 1], c=clusters, cmap='tab20', alpha=0.6, s=20)\n",
    "plt.title(\"Clusters Originales\")\n",
    "plt.xlabel(\"Componente Principal 1\")\n",
    "plt.ylabel(\"Componente Principal 2\")\n",
    "\n",
    "# Puntos corregidos\n",
    "plt.subplot(1, 2, 2)\n",
    "plt.scatter(X_2D[:, 0], X_2D[:, 1], c=clusters, cmap='tab20', alpha=0.2, s=20)\n",
    "plt.scatter(X_2D[active_changes, 0], X_2D[active_changes, 1], \n",
    "            c='red', edgecolors='black', s=50, label='Corregidas')\n",
    "plt.title(\"Puntos Corregidos por Aprendizaje Activo\")\n",
    "plt.xlabel(\"Componente Principal 1\")\n",
    "plt.legend()\n",
    "\n",
    "plt.tight_layout()\n",
    "plt.show()"
   ]
  },
  {
   "cell_type": "code",
   "execution_count": null,
   "id": "77d6de58-5c4c-442e-b08b-f5493693ddf8",
   "metadata": {},
   "outputs": [],
   "source": []
  }
 ],
 "metadata": {
  "kernelspec": {
   "display_name": "Python 3 (ipykernel)",
   "language": "python",
   "name": "python3"
  },
  "language_info": {
   "codemirror_mode": {
    "name": "ipython",
    "version": 3
   },
   "file_extension": ".py",
   "mimetype": "text/x-python",
   "name": "python",
   "nbconvert_exporter": "python",
   "pygments_lexer": "ipython3",
   "version": "3.9.21"
  }
 },
 "nbformat": 4,
 "nbformat_minor": 5
}
